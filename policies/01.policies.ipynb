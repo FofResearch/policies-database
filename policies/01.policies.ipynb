{
 "cells": [
  {
   "cell_type": "markdown",
   "metadata": {},
   "source": [
    "# Validate and prepare YAML policy files"
   ]
  },
  {
   "cell_type": "code",
   "execution_count": 1,
   "metadata": {},
   "outputs": [],
   "source": [
    "import copy\n",
    "import pathlib\n",
    "import json\n",
    "import os\n",
    "\n",
    "import networkx\n",
    "from pykwalify.core import (\n",
    "    Rule,\n",
    "    Core as Kwalify,\n",
    ")\n",
    "import ruamel.yaml"
   ]
  },
  {
   "cell_type": "code",
   "execution_count": 2,
   "metadata": {},
   "outputs": [],
   "source": [
    "schema_path = 'schema.yml'\n",
    "test_paths = list(map(str, pathlib.Path('test-policies').glob('*.yml')))"
   ]
  },
  {
   "cell_type": "code",
   "execution_count": 3,
   "metadata": {},
   "outputs": [],
   "source": [
    "# Options to affect yaml.dump\n",
    "yaml = ruamel.yaml.YAML()\n",
    "yaml.indent(\n",
    "    mapping=2,\n",
    "    sequence=4,\n",
    "    offset=2,\n",
    ")"
   ]
  },
  {
   "cell_type": "code",
   "execution_count": 4,
   "metadata": {},
   "outputs": [
    {
     "data": {
      "text/plain": [
       "<bound method CommentedBase.yaml_add_eol_comment of []>"
      ]
     },
     "execution_count": 4,
     "metadata": {},
     "output_type": "execute_result"
    }
   ],
   "source": [
    "commented_seq = ruamel.yaml.comments.CommentedSeq()\n",
    "commented_seq.yaml_add_eol_comment"
   ]
  },
  {
   "cell_type": "code",
   "execution_count": 5,
   "metadata": {},
   "outputs": [],
   "source": [
    "def schema_to_template(rule):\n",
    "    \"\"\"\n",
    "    Recursively convert rules to a blank template object.\n",
    "    yaml_set_comment_before_after_key\n",
    "    \"\"\"\n",
    "    if rule.type == 'seq':\n",
    "        commented_seq = ruamel.yaml.comments.CommentedSeq()\n",
    "        for i, value in enumerate(rule.sequence):\n",
    "            commented_seq.append(schema_to_template(value))\n",
    "            if value.desc:\n",
    "                commented_seq.yaml_set_comment_before_after_key(i, before=value.desc)\n",
    "        return commented_seq\n",
    "    elif rule.type == 'map':\n",
    "        commented_map = ruamel.yaml.comments.CommentedMap()\n",
    "        for key, value in rule.mapping.items():\n",
    "            commented_map[key] = schema_to_template(value)\n",
    "            if value.desc:\n",
    "                commented_map.yaml_set_comment_before_after_key(key, before='\\n' + value.desc)\n",
    "        return commented_map\n",
    "    else:\n",
    "        return None"
   ]
  },
  {
   "cell_type": "code",
   "execution_count": 6,
   "metadata": {},
   "outputs": [],
   "source": [
    "# Create template\n",
    "with open('schema.yml') as read_file:\n",
    "    schema = ruamel.yaml.safe_load(read_file)\n",
    "root_rule = Rule(schema)\n",
    "template = schema_to_template(root_rule)\n",
    "with open('template.yml', 'w') as write_file:\n",
    "    yaml.dump(template, write_file, transform=str.lstrip)"
   ]
  },
  {
   "cell_type": "code",
   "execution_count": 7,
   "metadata": {},
   "outputs": [
    {
     "name": "stderr",
     "output_type": "stream",
     "text": [
      "validation.invalid\n",
      " --- All found errors ---\n",
      "[\"Value '11' is not of type 'str'. Path: '/policy-id'\"]\n",
      "Errors found but will not raise exception...\n"
     ]
    }
   ],
   "source": [
    "# Perform tests\n",
    "for test_path in test_paths:\n",
    "    kore = Kwalify(\n",
    "        source_file=test_path,\n",
    "        schema_files=[schema_path],\n",
    "        strict_rule_validation=True,\n",
    "    )\n",
    "    data = kore.validate(raise_exception=False)"
   ]
  },
  {
   "cell_type": "code",
   "execution_count": 8,
   "metadata": {},
   "outputs": [],
   "source": [
    "# Read RoMEO policy ontology\n",
    "with open('../romeo/data/ontology.json') as read_file:\n",
    "    data = json.load(read_file)\n",
    "    graph = networkx.node_link_graph(data)"
   ]
  },
  {
   "cell_type": "code",
   "execution_count": 9,
   "metadata": {},
   "outputs": [],
   "source": [
    "# Create stubs for each record\n",
    "for node, data in graph.nodes(data=True):\n",
    "    if 'Journal Title' in data:\n",
    "        continue\n",
    "    record = copy.deepcopy(template)\n",
    "    record['policy-id'] = node\n",
    "    record['publisher'] = data['Publisher']\n",
    "    record['policy-heading'] = data['Policy Heading']\n",
    "    child_policies, journals = list(), list()\n",
    "    for inheritor in networkx.ancestors(graph, node):\n",
    "        inheritor_data = graph.node[inheritor]\n",
    "        if 'Journal Title' not in inheritor_data:\n",
    "            child_policies.append(inheritor)\n",
    "        else:\n",
    "            journals.append(inheritor)\n",
    "    record['journals'] = sorted(journals)\n",
    "    record['child-policies'] = sorted(child_policies)\n",
    "    record['parent-policies'] = sorted(networkx.descendants(graph, node))\n",
    "    kwalify = Kwalify(schema_data=schema, source_data=record)\n",
    "    validated_record = kwalify.validate()\n",
    "    if os.environ.get('TRAVIS', 'false') == 'true':\n",
    "        # Skip writing files on Travis.\n",
    "        # Was getting \"FileNotFoundError: [Errno 2] No such file or directory\". See\n",
    "        # https://travis-ci.com/transpose-publishing/policies-database/builds/72971278#L756\n",
    "        continue\n",
    "    path = pathlib.Path(f'policies/{node}.yml').resolve()\n",
    "    with path.open('w') as write_file:\n",
    "        yaml.dump(record, write_file, transform=str.lstrip)"
   ]
  }
 ],
 "metadata": {
  "kernelspec": {
   "display_name": "Python [conda env:policies-database]",
   "language": "python",
   "name": "conda-env-policies-database-py"
  },
  "language_info": {
   "codemirror_mode": {
    "name": "ipython",
    "version": 3
   },
   "file_extension": ".py",
   "mimetype": "text/x-python",
   "name": "python",
   "nbconvert_exporter": "python",
   "pygments_lexer": "ipython3",
   "version": "3.6.5"
  }
 },
 "nbformat": 4,
 "nbformat_minor": 2
}
